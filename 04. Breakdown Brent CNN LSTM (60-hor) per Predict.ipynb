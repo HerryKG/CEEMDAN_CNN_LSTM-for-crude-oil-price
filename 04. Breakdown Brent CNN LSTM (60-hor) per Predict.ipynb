{
 "cells": [
  {
   "cell_type": "code",
   "execution_count": null,
   "id": "2715ee6e",
   "metadata": {},
   "outputs": [],
   "source": [
    "# Using tensorflow python 37 Environment"
   ]
  },
  {
   "cell_type": "code",
   "execution_count": 1,
   "id": "1ee32994",
   "metadata": {},
   "outputs": [],
   "source": [
    "import logging\n",
    "from typing import Optional, Tuple\n",
    "\n",
    "import numpy as np\n",
    "import pandas as pd\n",
    "from scipy.interpolate import interp1d\n",
    "\n",
    "# from PyEMD.splines import akima, cubic_spline_3pts\n",
    "# from PyEMD.utils import get_timeline\n",
    "\n",
    "import pylab as plt\n",
    "import warnings\n",
    "import time\n",
    "from pandas import concat\n",
    "from pandas import DataFrame\n",
    "from numpy import array"
   ]
  },
  {
   "cell_type": "code",
   "execution_count": 2,
   "id": "155cf043",
   "metadata": {},
   "outputs": [],
   "source": [
    "from math import sqrt\n",
    "\n",
    "from sklearn.preprocessing import StandardScaler, MinMaxScaler\n",
    "from sklearn.metrics import mean_squared_error as MSE\n",
    "from sklearn.metrics import mean_squared_error\n",
    "from sklearn import metrics\n",
    "from tensorflow.keras.models import Sequential\n",
    "from tensorflow.keras.layers import Dense, Bidirectional, TimeDistributed\n",
    "from tensorflow.keras.layers import LSTM\n",
    "from tensorflow.keras.layers import Activation, Dropout, Flatten, Conv1D, MaxPooling1D, ConvLSTM2D\n",
    "# from tensorflow.keras.wrappers.scikit_learn import KerasRegressor\n",
    "import warnings\n",
    "import seaborn as sns\n",
    "warnings.filterwarnings(\"ignore\")"
   ]
  },
  {
   "cell_type": "code",
   "execution_count": null,
   "id": "bd4f73d1",
   "metadata": {},
   "outputs": [],
   "source": [
    "# 01. Upload Data"
   ]
  },
  {
   "cell_type": "code",
   "execution_count": 3,
   "id": "9a888b3c",
   "metadata": {},
   "outputs": [
    {
     "data": {
      "text/html": [
       "<div>\n",
       "<style scoped>\n",
       "    .dataframe tbody tr th:only-of-type {\n",
       "        vertical-align: middle;\n",
       "    }\n",
       "\n",
       "    .dataframe tbody tr th {\n",
       "        vertical-align: top;\n",
       "    }\n",
       "\n",
       "    .dataframe thead th {\n",
       "        text-align: right;\n",
       "    }\n",
       "</style>\n",
       "<table border=\"1\" class=\"dataframe\">\n",
       "  <thead>\n",
       "    <tr style=\"text-align: right;\">\n",
       "      <th></th>\n",
       "      <th>Close</th>\n",
       "    </tr>\n",
       "    <tr>\n",
       "      <th>Date</th>\n",
       "      <th></th>\n",
       "    </tr>\n",
       "  </thead>\n",
       "  <tbody>\n",
       "    <tr>\n",
       "      <th>2000-01-04</th>\n",
       "      <td>24.39</td>\n",
       "    </tr>\n",
       "    <tr>\n",
       "      <th>2000-01-05</th>\n",
       "      <td>23.73</td>\n",
       "    </tr>\n",
       "    <tr>\n",
       "      <th>2000-01-06</th>\n",
       "      <td>23.62</td>\n",
       "    </tr>\n",
       "    <tr>\n",
       "      <th>2000-01-07</th>\n",
       "      <td>23.09</td>\n",
       "    </tr>\n",
       "    <tr>\n",
       "      <th>2000-01-10</th>\n",
       "      <td>23.73</td>\n",
       "    </tr>\n",
       "  </tbody>\n",
       "</table>\n",
       "</div>"
      ],
      "text/plain": [
       "            Close\n",
       "Date             \n",
       "2000-01-04  24.39\n",
       "2000-01-05  23.73\n",
       "2000-01-06  23.62\n",
       "2000-01-07  23.09\n",
       "2000-01-10  23.73"
      ]
     },
     "execution_count": 3,
     "metadata": {},
     "output_type": "execute_result"
    }
   ],
   "source": [
    "df_Br = pd.read_csv('Br_close.csv')\n",
    "df_Br.set_index(pd.DatetimeIndex(df_Br['Date']), inplace=True)\n",
    "df_Br.drop(['Date'],axis=1,inplace=True)\n",
    "df_Br.head()"
   ]
  },
  {
   "cell_type": "code",
   "execution_count": null,
   "id": "21ef494e",
   "metadata": {},
   "outputs": [],
   "source": [
    "# 02. Knowing How Much IMF in each Date"
   ]
  },
  {
   "cell_type": "code",
   "execution_count": null,
   "id": "9e02c233",
   "metadata": {},
   "outputs": [],
   "source": [
    "# Upload Data Jumlah Kol"
   ]
  },
  {
   "cell_type": "code",
   "execution_count": 4,
   "id": "5a693374",
   "metadata": {},
   "outputs": [
    {
     "data": {
      "text/html": [
       "<div>\n",
       "<style scoped>\n",
       "    .dataframe tbody tr th:only-of-type {\n",
       "        vertical-align: middle;\n",
       "    }\n",
       "\n",
       "    .dataframe tbody tr th {\n",
       "        vertical-align: top;\n",
       "    }\n",
       "\n",
       "    .dataframe thead th {\n",
       "        text-align: right;\n",
       "    }\n",
       "</style>\n",
       "<table border=\"1\" class=\"dataframe\">\n",
       "  <thead>\n",
       "    <tr style=\"text-align: right;\">\n",
       "      <th></th>\n",
       "      <th>Jum_Kol</th>\n",
       "    </tr>\n",
       "    <tr>\n",
       "      <th>Date</th>\n",
       "      <th></th>\n",
       "    </tr>\n",
       "  </thead>\n",
       "  <tbody>\n",
       "    <tr>\n",
       "      <th>2018-11-27</th>\n",
       "      <td>10</td>\n",
       "    </tr>\n",
       "    <tr>\n",
       "      <th>2018-11-28</th>\n",
       "      <td>11</td>\n",
       "    </tr>\n",
       "    <tr>\n",
       "      <th>2018-11-29</th>\n",
       "      <td>10</td>\n",
       "    </tr>\n",
       "    <tr>\n",
       "      <th>2018-11-30</th>\n",
       "      <td>11</td>\n",
       "    </tr>\n",
       "    <tr>\n",
       "      <th>2018-12-03</th>\n",
       "      <td>11</td>\n",
       "    </tr>\n",
       "  </tbody>\n",
       "</table>\n",
       "</div>"
      ],
      "text/plain": [
       "            Jum_Kol\n",
       "Date               \n",
       "2018-11-27       10\n",
       "2018-11-28       11\n",
       "2018-11-29       10\n",
       "2018-11-30       11\n",
       "2018-12-03       11"
      ]
     },
     "execution_count": 4,
     "metadata": {},
     "output_type": "execute_result"
    }
   ],
   "source": [
    "df_Kol = pd.read_csv('Jumlah_IMF_CEEMD.csv')\n",
    "df_Kol.set_index(pd.DatetimeIndex(df_Kol['Date']), inplace=True)\n",
    "df_Kol.drop(['Date'],axis=1,inplace=True)\n",
    "df_Kol.head()"
   ]
  },
  {
   "cell_type": "code",
   "execution_count": null,
   "id": "ba437d18",
   "metadata": {},
   "outputs": [],
   "source": [
    "# 03. Univariate CNN LSTM"
   ]
  },
  {
   "cell_type": "code",
   "execution_count": null,
   "id": "b06e2c3c",
   "metadata": {},
   "outputs": [],
   "source": [
    "# Prediksi data IMF 1 semua"
   ]
  },
  {
   "cell_type": "code",
   "execution_count": 5,
   "id": "424e3a24",
   "metadata": {},
   "outputs": [],
   "source": [
    "def train_test_split(data, n_test):\n",
    "    return data[:-n_test], data[-n_test:]"
   ]
  },
  {
   "cell_type": "code",
   "execution_count": 6,
   "id": "77d9a928",
   "metadata": {},
   "outputs": [],
   "source": [
    "def split_sequence(sequence, n_steps):\n",
    "    X, y = list(), list()\n",
    "    for i in range(len(sequence)):\n",
    "        # find the end of this pattern\n",
    "        end_ix = i + n_steps\n",
    "        # check if we are beyond the sequence\n",
    "        if end_ix > len(sequence)-1:\n",
    "            break\n",
    "        # gather input and output parts of the pattern\n",
    "        seq_x, seq_y = sequence[i:end_ix], sequence[end_ix]\n",
    "        X.append(seq_x)\n",
    "        y.append(seq_y)\n",
    "    return np.array(X), np.array(y)"
   ]
  },
  {
   "cell_type": "code",
   "execution_count": 7,
   "id": "6347bcfc",
   "metadata": {},
   "outputs": [],
   "source": [
    "def series_to_supervised(data, n_in, n_out=60):\n",
    "    df = DataFrame(data)\n",
    "    cols = list()\n",
    "    # input sequence (t-n, ... t-1)\n",
    "    for i in range(n_in, 0, -1):\n",
    "        cols.append(df.shift(i))\n",
    "    # forecast sequence (t, t+1, ... t+n)\n",
    "    for i in range(0, n_out):\n",
    "        cols.append(df.shift(-i))\n",
    "    # put it all together\n",
    "    agg = concat(cols, axis=1)\n",
    "    # drop rows with NaN values\n",
    "    agg.dropna(inplace=True)\n",
    "    return agg.values"
   ]
  },
  {
   "cell_type": "code",
   "execution_count": 8,
   "id": "022fc1b4",
   "metadata": {},
   "outputs": [],
   "source": [
    "def model_predict(model, history, config):\n",
    "    # unpack config\n",
    "    n_seq, n_steps, _, _, _, _, _ = config\n",
    "    n_input = n_seq * n_steps\n",
    "    # prepare data\n",
    "    x_input = array(history[-n_input:]).reshape((1, n_seq, n_steps, 1))\n",
    "    # forecast\n",
    "    yhat = model.predict(x_input, verbose=0)\n",
    "    return yhat[0]"
   ]
  },
  {
   "cell_type": "code",
   "execution_count": 9,
   "id": "edd1d179",
   "metadata": {},
   "outputs": [],
   "source": [
    "# Untuk Horizon lebih dari satu\n",
    "def split_sequence2(sequence, n_steps_in, n_steps_out):\n",
    "    X, y = list(), list()\n",
    "    for i in range(len(sequence)):\n",
    "        # find the end of this pattern\n",
    "        end_ix = i + n_steps_in\n",
    "        out_end_ix = end_ix + n_steps_out\n",
    "        # check if we are beyond the sequence\n",
    "        if out_end_ix > len(sequence):\n",
    "            break\n",
    "        # gather input and output parts of the pattern\n",
    "        seq_x, seq_y = sequence[i:end_ix], sequence[end_ix:out_end_ix]\n",
    "        X.append(seq_x)\n",
    "        y.append(seq_y)\n",
    "    return np.array(X), np.array(y)"
   ]
  },
  {
   "cell_type": "code",
   "execution_count": null,
   "id": "f53b3f33",
   "metadata": {},
   "outputs": [],
   "source": [
    "# Testing 2 Hor :"
   ]
  },
  {
   "cell_type": "code",
   "execution_count": null,
   "id": "9d5f7c0f",
   "metadata": {},
   "outputs": [],
   "source": []
  },
  {
   "cell_type": "code",
   "execution_count": 10,
   "id": "806c4caf",
   "metadata": {},
   "outputs": [],
   "source": [
    "lim = 840\n",
    "iIMF = 1 # Letak IMF yang diambil\n",
    "n_test = 60 # horizon = 2\n",
    "pred_iIMF = []"
   ]
  },
  {
   "cell_type": "code",
   "execution_count": 11,
   "id": "d8639bcf",
   "metadata": {},
   "outputs": [],
   "source": [
    "pred_all = []\n",
    "n_features = 1 # klo horizon ini tetap satu saja"
   ]
  },
  {
   "cell_type": "code",
   "execution_count": 38,
   "id": "04a61309",
   "metadata": {},
   "outputs": [],
   "source": [
    "# Parameter and Define CNN LSTM Model \n",
    "n_seq = 3\n",
    "n_steps = 25\n",
    "n_steps_out = 60\n",
    "\n",
    "n_input2 = n_seq * n_steps\n",
    "\n",
    "n_filters = 128\n",
    "n_kernel = 3\n",
    "n_nodes = 100\n",
    "n_epochs = 200\n",
    "n_batch = 100"
   ]
  },
  {
   "cell_type": "code",
   "execution_count": null,
   "id": "5fe51ac8",
   "metadata": {},
   "outputs": [],
   "source": []
  },
  {
   "cell_type": "code",
   "execution_count": 13,
   "id": "5c7acb87",
   "metadata": {},
   "outputs": [
    {
     "data": {
      "text/plain": [
       "[0.40960658, 0.1013519, -0.31524065, -0.06470162]"
      ]
     },
     "execution_count": 13,
     "metadata": {},
     "output_type": "execute_result"
    }
   ],
   "source": [
    "# pred_iIMF"
   ]
  },
  {
   "cell_type": "code",
   "execution_count": null,
   "id": "a0c12ea8",
   "metadata": {},
   "outputs": [],
   "source": [
    "# Ini Proses Sekaligus semua IMF"
   ]
  },
  {
   "cell_type": "code",
   "execution_count": null,
   "id": "d9ca5e43",
   "metadata": {},
   "outputs": [],
   "source": [
    "start = time.time()\n",
    "lim = 840\n",
    "n_test = 60 # horizon = 2\n",
    "# cfg = [24, 500, 100, 100] # [24, 500, 100, 100]\n",
    "pred = []\n",
    "\n",
    "for i in range (1, 841):\n",
    "    if i % 60 != 0: # Yang boleh Genap\n",
    "        continue\n",
    "    df_coba2 = pd.read_csv(f'CEEMD_-{lim-i}.csv')\n",
    "    df_coba2.set_index(pd.DatetimeIndex(df_coba2['Date']), inplace=True)\n",
    "    df_coba2.drop(['Date'],axis=1,inplace=True)\n",
    "    bar, kol = df_coba2.shape\n",
    "    all_pred = np.zeros(60) # dua elemen karena horizon 2\n",
    "    \n",
    "    for j in range (0, kol):\n",
    "        imfs_x = df_coba2[f'{j+1}'].values\n",
    "        train, test = train_test_split(imfs_x, n_test)\n",
    "        \n",
    "        n_input = n_seq * n_steps\n",
    "        # prepare data\n",
    "        data = series_to_supervised(train, n_input)\n",
    "        train_x, train_y = data[:, :-60], data[:, -60:]\n",
    "        train_x = train_x.reshape((train_x.shape[0], n_seq, n_steps, 1))\n",
    "        \n",
    "        model = Sequential()\n",
    "        model.add(TimeDistributed(Conv1D(filters=n_filters, kernel_size=n_kernel, activation='relu', input_shape=(None,n_steps,1))))\n",
    "        model.add(TimeDistributed(Conv1D(filters=n_filters, kernel_size=n_kernel, activation='relu')))\n",
    "        model.add(TimeDistributed(MaxPooling1D(pool_size=2)))\n",
    "        model.add(TimeDistributed(Flatten()))\n",
    "        model.add(LSTM(n_nodes, activation='relu'))\n",
    "        model.add(Dense(n_nodes, activation='relu'))\n",
    "        model.add(Dense(60))\n",
    "        model.compile(loss='mse', optimizer='adam')\n",
    "        \n",
    "        model.fit(train_x, train_y, epochs=n_epochs, batch_size=n_batch, verbose=0)\n",
    "        \n",
    "        n_input = n_seq * n_steps\n",
    "        # prepare data\n",
    "        x_input = train[-n_input:].reshape((1, n_seq, n_steps, 1))\n",
    "        # forecast\n",
    "        yhat = model.predict(x_input, verbose=0)\n",
    "        \n",
    "        for k in range(0, n_steps_out):\n",
    "            all_pred[k] += list(yhat[0])[k]\n",
    "                   \n",
    "    for l in range(0, n_steps_out):\n",
    "        pred.append(all_pred[l])\n",
    "    print(' > proses ke %i' % i)\n",
    "\n",
    "print('it took: ', (time.time()-start)*1000)\n",
    "pred  "
   ]
  },
  {
   "cell_type": "code",
   "execution_count": 40,
   "id": "d2defa6d",
   "metadata": {},
   "outputs": [
    {
     "data": {
      "text/plain": [
       "<keras.callbacks.History at 0x1950f7dcd48>"
      ]
     },
     "execution_count": 40,
     "metadata": {},
     "output_type": "execute_result"
    }
   ],
   "source": [
    "'''lim = 920\n",
    "i = 60\n",
    "j = 1\n",
    "n_test = 30\n",
    "\n",
    "n_seq = 1\n",
    "n_steps = 50\n",
    "\n",
    "df_coba2 = pd.read_csv(f'EMD_-{lim-i}.csv')\n",
    "df_coba2.set_index(pd.DatetimeIndex(df_coba2['Date']), inplace=True)\n",
    "df_coba2.drop(['Date'],axis=1,inplace=True)\n",
    "bar, kol = df_coba2.shape\n",
    "all_pred = np.zeros(30)\n",
    "\n",
    "imfs_x = df_coba2[f'{j+1}'].values\n",
    "train, test = train_test_split(imfs_x, n_test)\n",
    "        \n",
    "n_input = n_seq * n_steps\n",
    "# prepare data\n",
    "data = series_to_supervised(train, n_input)\n",
    "train_x, train_y = data[:, :-30], data[:, -30:]\n",
    "train_x = train_x.reshape((train_x.shape[0], n_seq, n_steps, 1))\n",
    "    \n",
    "model = Sequential()\n",
    "model.add(TimeDistributed(Conv1D(filters=n_filters, kernel_size=n_kernel, activation='relu', input_shape=(None,n_steps,1))))\n",
    "model.add(TimeDistributed(Conv1D(filters=n_filters, kernel_size=n_kernel, activation='relu')))\n",
    "model.add(TimeDistributed(MaxPooling1D(pool_size=2)))\n",
    "model.add(TimeDistributed(Flatten()))\n",
    "model.add(LSTM(n_nodes, activation='relu'))\n",
    "model.add(Dense(n_nodes, activation='relu'))\n",
    "model.add(Dense(30))\n",
    "model.compile(loss='mse', optimizer='adam')\n",
    "\n",
    "model.fit(train_x, train_y, epochs=n_epochs, batch_size=n_batch, verbose=0)'''"
   ]
  },
  {
   "cell_type": "code",
   "execution_count": 37,
   "id": "c22b7972",
   "metadata": {},
   "outputs": [
    {
     "data": {
      "text/plain": [
       "1"
      ]
     },
     "execution_count": 37,
     "metadata": {},
     "output_type": "execute_result"
    }
   ],
   "source": [
    "#len(train_x[0][0][0])"
   ]
  },
  {
   "cell_type": "code",
   "execution_count": 41,
   "id": "da1918f8",
   "metadata": {},
   "outputs": [],
   "source": [
    "n_input = n_seq * n_steps\n",
    "# prepare data\n",
    "x_input = train[-n_input:].reshape((1, n_seq, n_steps, 1))\n",
    "# forecast\n",
    "yhat = model.predict(x_input, verbose=0)"
   ]
  },
  {
   "cell_type": "code",
   "execution_count": 43,
   "id": "ce66ff74",
   "metadata": {},
   "outputs": [],
   "source": [
    "# yhat"
   ]
  },
  {
   "cell_type": "code",
   "execution_count": null,
   "id": "44a6ebd9",
   "metadata": {},
   "outputs": [],
   "source": [
    "data = series_to_supervised(train, n_input)\n",
    "train_x, train_y = data[:, :-60], data[:, -60:]\n",
    "train_x = train_x.reshape((train_x.shape[0], train_x.shape[1], 1))"
   ]
  },
  {
   "cell_type": "code",
   "execution_count": null,
   "id": "d1f54163",
   "metadata": {},
   "outputs": [],
   "source": [
    "x_input = train[-n_steps:].reshape((1, n_steps))"
   ]
  },
  {
   "cell_type": "code",
   "execution_count": null,
   "id": "76cc7ecd",
   "metadata": {},
   "outputs": [],
   "source": []
  },
  {
   "cell_type": "code",
   "execution_count": 36,
   "id": "f34e41bd",
   "metadata": {},
   "outputs": [
    {
     "data": {
      "text/plain": [
       "40"
      ]
     },
     "execution_count": 36,
     "metadata": {},
     "output_type": "execute_result"
    }
   ],
   "source": [
    "# INGAT NEXT adalah\n",
    "# Pengambilan s/d 121 - 151 ; len harusnya 5, 10 atau 15; total sampai 246 - 251, s/d Proses 50\n",
    "# Proses 24 ke 30 \n",
    "for k in range(0, len(pred)):\n",
    "    pred_all.append(pred[k])\n",
    "len(pred_all)"
   ]
  },
  {
   "cell_type": "code",
   "execution_count": 37,
   "id": "58926bf3",
   "metadata": {},
   "outputs": [
    {
     "data": {
      "text/plain": [
       "[86.07938323915005,\n",
       " 86.49704347550869,\n",
       " 87.96748905442655,\n",
       " 88.12629501894116,\n",
       " 88.8318550735712,\n",
       " 86.67269928753376,\n",
       " 86.99114570766687,\n",
       " 86.66734078526497,\n",
       " 88.20512632280588,\n",
       " 89.91613374650478,\n",
       " 90.21743702888489,\n",
       " 89.49226787686348,\n",
       " 90.3222274184227,\n",
       " 89.29466941952705,\n",
       " 92.00628232955933,\n",
       " 91.20852506160736,\n",
       " 90.6592574864626,\n",
       " 90.70612169802189,\n",
       " 91.59698970615864,\n",
       " 92.45417682081461,\n",
       " 95.06161713600159,\n",
       " 95.74726995825768,\n",
       " 94.57963913679123,\n",
       " 94.77675917744637,\n",
       " 95.26961335539818,\n",
       " 94.65037462022156,\n",
       " 95.8754640892148,\n",
       " 96.79548761248589,\n",
       " 98.22130852937698,\n",
       " 98.30112224817276,\n",
       " 101.78706267476082,\n",
       " 104.52080470323563,\n",
       " 109.46191143244505,\n",
       " 111.49624997377396,\n",
       " 115.44408792257309,\n",
       " 118.95966593921185,\n",
       " 129.6396142244339,\n",
       " 124.16856157779694,\n",
       " 116.14713025093079,\n",
       " 125.01147861778736]"
      ]
     },
     "execution_count": 37,
     "metadata": {},
     "output_type": "execute_result"
    }
   ],
   "source": [
    "pred_all"
   ]
  },
  {
   "cell_type": "code",
   "execution_count": null,
   "id": "b7428ceb",
   "metadata": {},
   "outputs": [],
   "source": []
  },
  {
   "cell_type": "code",
   "execution_count": 40,
   "id": "aa790b53",
   "metadata": {},
   "outputs": [],
   "source": [
    "# Simpan File tiap 50\n",
    "lim = 840\n",
    "i = 840\n",
    "df_coba3 = pd.DataFrame(df_Br.index[-840:].values, columns=['Date'])\n",
    "df_coba3['pred'] = pred_all\n",
    "df_coba3.set_index(pd.DatetimeIndex(df_coba3['Date']), inplace=True)\n",
    "df_coba3.drop(['Date'],axis=1,inplace=True)\n",
    "df_coba3.to_csv(f'Pred_CNN-LSTM60_CEEMD-{lim}-{lim-i}.csv',index=True)\n",
    "df_coba3.to_excel(f'Pred_CNN-LSTM60_CEEMD-{lim}-{lim-i}.xlsx',sheet_name='Sheet1',index=True)"
   ]
  },
  {
   "cell_type": "code",
   "execution_count": null,
   "id": "99dbcbd9",
   "metadata": {},
   "outputs": [],
   "source": []
  },
  {
   "cell_type": "code",
   "execution_count": null,
   "id": "b0cb92a7",
   "metadata": {},
   "outputs": [],
   "source": [
    "# 04. Hitung Error Measurement"
   ]
  },
  {
   "cell_type": "code",
   "execution_count": 38,
   "id": "653f952a",
   "metadata": {},
   "outputs": [],
   "source": [
    "def timeseries_evaluation_metrics_func(y_true, y_pred):    \n",
    "    def mean_absolute_percentage_error(y_true, y_pred):\n",
    "        y_true, y_pred = np.array(y_true), np.array(y_pred)\n",
    "        return np.mean(np.abs((y_true - y_pred) / y_true)) * 100\n",
    "    print('Evaluation metric results:-')\n",
    "    print(f'MSE is : {metrics.mean_squared_error(y_true, y_pred)}')\n",
    "    print(f'MAE is : {metrics.mean_absolute_error(y_true, y_pred)}')\n",
    "    print(f'RMSE is : {np.sqrt(metrics.mean_squared_error(y_true, y_pred))}')\n",
    "    print(f'MAPE is : {mean_absolute_percentage_error(y_true, y_pred)}')\n",
    "    print(f'R2 is : {metrics.r2_score(y_true, y_pred)}',end='\\n\\n')"
   ]
  },
  {
   "cell_type": "code",
   "execution_count": 39,
   "id": "a8743232",
   "metadata": {},
   "outputs": [
    {
     "name": "stdout",
     "output_type": "stream",
     "text": [
      "Evaluation metric results:-\n",
      "MSE is : 11.226646636399542\n",
      "MAE is : 1.8483591437553986\n",
      "RMSE is : 3.3506188437958055\n",
      "MAPE is : 1.7732336791642818\n",
      "R2 is : 0.8979972571349191\n",
      "\n"
     ]
    }
   ],
   "source": [
    "timeseries_evaluation_metrics_func(df_Br['Close'][-840:], pred_all)"
   ]
  },
  {
   "cell_type": "code",
   "execution_count": null,
   "id": "c89322a5",
   "metadata": {},
   "outputs": [],
   "source": []
  }
 ],
 "metadata": {
  "kernelspec": {
   "display_name": "Python 3 (ipykernel)",
   "language": "python",
   "name": "python3"
  },
  "language_info": {
   "codemirror_mode": {
    "name": "ipython",
    "version": 3
   },
   "file_extension": ".py",
   "mimetype": "text/x-python",
   "name": "python",
   "nbconvert_exporter": "python",
   "pygments_lexer": "ipython3",
   "version": "3.7.16"
  }
 },
 "nbformat": 4,
 "nbformat_minor": 5
}
